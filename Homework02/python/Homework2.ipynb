{
 "cells": [
  {
   "cell_type": "code",
   "execution_count": 15,
   "metadata": {},
   "outputs": [],
   "source": [
    "#HOMEWORK2\n",
    "\n",
    "#Matrix operations\n",
    "#Generate a matrix A with 20 rows and 5 columns with entries being random uniform numbers on\n",
    "#an interval [0, 1]. Then generate a matrix B with 5 rows and 7 columns where entries are drawn\n",
    "#from a Gaussian distribution with mean 0 and variance 10. Use set.seed() function with a chosen\n",
    "#seed (record the seed) for reproducibility. Type in ?set.seed in the R console to learn more about\n",
    "#the function. With the two matrices compute:\n",
    "#• AB (a matrix product)\n",
    "#• multiply the 3rd row of A by the 4th column of B and compute the sum of entries in the resulting\n",
    "#vector, then check that agrees with a corresponding term in the matrix product you computed in\n",
    "#the previous part.\n",
    "#• obtain a vector which is a product of matrix multiplication between matrix A and the 4th column\n",
    "#of B."
   ]
  },
  {
   "cell_type": "code",
   "execution_count": 16,
   "metadata": {},
   "outputs": [],
   "source": [
    "import numpy as np"
   ]
  },
  {
   "cell_type": "code",
   "execution_count": 17,
   "metadata": {},
   "outputs": [
    {
     "output_type": "stream",
     "name": "stdout",
     "text": [
      "Matrix A\n\n[[0.1945276  0.6148342  0.56225923 0.25890539 0.93847917]\n [0.26103126 0.59595229 0.29333847 0.011722   0.11974585]\n [0.87386573 0.49752376 0.29097319 0.75123082 0.02442032]\n [0.07752507 0.45175605 0.79838774 0.6476587  0.01461071]\n [0.84043539 0.57350895 0.5506336  0.24554604 0.42266711]\n [0.91556714 0.46834948 0.11171359 0.69178244 0.58465411]\n [0.05247929 0.54674259 0.19649949 0.4973383  0.29687316]\n [0.36694764 0.80540036 0.52877705 0.28136415 0.64106452]\n [0.53830893 0.07994154 0.97367142 0.41631963 0.32772247]\n [0.8507728  0.5864878  0.6866187  0.62268361 0.45337955]\n [0.03750815 0.0264604  0.51853458 0.02001013 0.36639241]\n [0.40290654 0.29967473 0.40756769 0.10500243 0.64013943]\n [0.72509387 0.79738287 0.4008553  0.87410848 0.94124385]\n [0.79598104 0.28608608 0.36626369 0.82534359 0.54854997]\n [0.01510342 0.81327653 0.06669651 0.15284147 0.23106709]\n [0.87061223 0.71958985 0.58912901 0.1959103  0.53578083]\n [0.23050436 0.27991593 0.1379344  0.95738151 0.06040445]\n [0.49543129 0.50849374 0.43231487 0.93263694 0.01002584]\n [0.87836516 0.12863562 0.75797294 0.87878354 0.83312886]\n [0.18539352 0.67762281 0.68577516 0.2961448  0.89291868]]\n"
     ]
    }
   ],
   "source": [
    "mymatrixA = np.random.rand(20, 5)#Creating the matrix [20x5] with random values in the interval [0, 1]\n",
    "print('Matrix A\\n')\n",
    "print(mymatrixA)\n"
   ]
  },
  {
   "cell_type": "code",
   "execution_count": 18,
   "metadata": {},
   "outputs": [
    {
     "output_type": "stream",
     "name": "stdout",
     "text": [
      "\nMatrix B\n\n[[  1.34043089  -4.28884796  28.21539978   5.18600318 -24.4368002\n   20.08963878  -8.61797251]\n [  3.60706018  -8.45291223  10.3452282   -3.25995141   5.29586631\n   -1.44445561   0.72060238]\n [  1.13598583  -4.65161869  -4.33868168 -14.74891248   1.11779857\n   -2.71163716 -10.54718407]\n [ 13.83191141  -6.32007583  23.26136882   3.47748015 -13.04233598\n    4.7324319  -12.69645246]\n [ -8.07114504   9.43736596  20.71770421   8.7587809    1.66962168\n  -10.9274312    6.42565346]]\n"
     ]
    }
   ],
   "source": [
    "mymatrixB = np.random.normal(0, 10, size=(5, 7))#Creating the matrix [5x7] mean = 0 and variance = 10\n",
    "print('\\nMatrix B\\n')\n",
    "print(mymatrixB)"
   ]
  },
  {
   "cell_type": "code",
   "execution_count": 19,
   "metadata": {},
   "outputs": [
    {
     "output_type": "stream",
     "name": "stdout",
     "text": [
      "\nMEu resultado\n\n[[-8.76231728e-01 -1.42638473e+00  3.48754379e+01 -1.67949272e-01\n  -2.67888580e+00 -7.53466887e+00 -4.42047224e+00]\n [ 2.02841002e+00 -6.46555306e+00  1.50111906e+01 -3.82589932e+00\n  -2.84774382e+00  2.33472868e+00 -4.29339293e+00]\n [ 1.34903544e+01 -1.38242705e+01  4.65216180e+01  1.44471161e+00\n  -2.81514457e+01  1.93362796e+01 -1.96224317e+01]\n [ 1.14808180e+01 -1.18203083e+01  1.87650983e+01 -1.04658161e+01\n  -7.03217645e+00  1.64531449e+00 -1.68923995e+01]\n [ 3.80570231e+00 -8.57666337e+00  4.17257067e+01 -1.07642738e+00\n  -1.93816273e+01  1.11058808e+01 -1.30388623e+01]\n [ 7.89336957e+00 -7.25981704e+00  5.83980827e+01  9.10020047e+00\n  -2.78146496e+01  1.42990221e+01 -1.37575007e+01]\n [ 6.74873189e+00 -6.10219864e+00  2.40036524e+01 -7.86192628e-02\n  -4.15809085e+00 -1.15873210e+00 -6.53762545e+00]\n [ 2.71535805e+00 -6.56971267e+00  3.62177300e+01 -1.92807884e+00\n  -6.70997786e+00 -8.99022792e-01 -7.61214820e+00]\n [ 5.22939747e+00 -7.05194690e+00  2.82649864e+01 -7.51133567e+00\n  -1.65254274e+01  6.44775587e+00 -1.80309685e+01]\n [ 8.98950046e+00 -1.14569523e+01  5.09706815e+01 -1.49026829e+00\n  -2.42809792e+01  1.23752359e+01 -1.91438189e+01]\n [-1.94565871e+00  5.34754455e-01  7.13856238e+00 -4.26082762e+00\n   1.53926681e-01 -4.59980462e+00 -3.67300337e+00]\n [-1.63026956e+00 -7.79371831e-01  2.84047858e+01  1.07335427e+00\n  -8.10381695e+00  5.80415049e-02 -4.77482678e+00]\n [ 8.79718755e+00 -8.35621996e+00  6.68021089e+01  6.53257352e+00\n  -2.28769608e+01  6.17939712e+00 -1.49521076e+01]\n [ 9.50361076e+00 -7.57518849e+00  5.43927652e+01  5.46808737e+00\n  -2.73752844e+01  1.24961989e+01 -1.74707826e+01]\n [ 3.27866252e+00 -6.03488317e+00  1.68927869e+01 -1.00124742e+00\n   2.40486259e+00 -2.85383421e+00 -7.03359700e-01]\n [ 2.81729080e+00 -8.73876505e+00  4.51102406e+01 -1.14578130e+00\n  -1.84661747e+01  9.92578956e+00 -1.22426502e+01]\n [ 1.42302235e+01 -9.47698601e+00  3.23225592e+01  2.10684610e+00\n  -1.63818474e+01  7.72307240e+00 -1.50068025e+01]\n [ 1.58085940e+01 -1.42337650e+01  3.92657231e+01 -2.13349031e+00\n  -2.10776245e+01  1.23503420e+01 -2.02396539e+01]\n [ 7.93338296e+00 -6.07175798e+00  6.05278110e+01  3.30972759e+00\n  -3.00063159e+01  1.04597077e+01 -2.12755479e+01]\n [ 3.61136802e-01 -3.15783259e+00  3.46537134e+01 -2.51128715e+00\n  -2.54684969e+00 -7.46970297e+00 -6.36481888e+00]]\n"
     ]
    }
   ],
   "source": [
    "\n",
    "product = mymatrixA @ mymatrixB #Multiplying matrix A to Matrix B\n",
    "print('\\nMEu resultado\\n')\n",
    "print(product)"
   ]
  },
  {
   "cell_type": "code",
   "execution_count": 22,
   "metadata": {},
   "outputs": [
    {
     "output_type": "stream",
     "name": "stdout",
     "text": [
      "\n3rd row x 4th colum\n\n-7.032176453167937\n"
     ]
    }
   ],
   "source": [
    "print('\\n3rd row x 4th colum\\n')\n",
    "#rowxcolum = np.dot(mymatrixA[3:, ], mymatrixB[:, 4]) #multiplyin 3rd row x 4th colum\n",
    "# mymatrixA[3] @ \n",
    "rowxcolum = mymatrixA[3] @  mymatrixB[:,4]\n",
    "print(rowxcolum)\n"
   ]
  },
  {
   "cell_type": "code",
   "execution_count": 21,
   "metadata": {},
   "outputs": [
    {
     "output_type": "stream",
     "name": "stdout",
     "text": [
      "\nvector final\n\n[ -2.6788858   -2.84774382 -28.15144566  -7.03217645 -19.38162727\n -27.81464959  -4.15809085  -6.70997786 -16.52542741 -24.28097916\n   0.15392668  -8.10381695 -22.87696079 -27.37528441   2.40486259\n -18.46617465 -16.38184744 -21.07762447 -30.00631593  -2.54684969]\n"
     ]
    }
   ],
   "source": [
    "\n",
    "vector = np.dot(mymatrixA, mymatrixB[:, 4]) #mULTIPLYIN MATRIXA to matrix B 4th colum\n",
    "print('\\nvector final\\n')\n",
    "print(vector)"
   ]
  }
 ],
 "metadata": {
  "kernelspec": {
   "name": "python385jvsc74a57bd03b7939a9f4ce6f4972709bff5bbea8c796018da80c2f038e0ac95d9c7c370d77",
   "display_name": "Python 3.8.5 64-bit ('base': conda)"
  },
  "language_info": {
   "codemirror_mode": {
    "name": "ipython",
    "version": 3
   },
   "file_extension": ".py",
   "mimetype": "text/x-python",
   "name": "python",
   "nbconvert_exporter": "python",
   "pygments_lexer": "ipython3",
   "version": "3.8.5"
  }
 },
 "nbformat": 4,
 "nbformat_minor": 4
}