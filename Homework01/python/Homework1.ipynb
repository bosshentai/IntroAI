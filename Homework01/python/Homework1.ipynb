{
 "cells": [
  {
   "cell_type": "code",
   "execution_count": 3,
   "metadata": {},
   "outputs": [
    {
     "name": "stdout",
     "output_type": "stream",
     "text": [
      "Qual é seu nome? MArco\n",
      "Qual é sua idade? 22\n",
      "MArco tem a idade de 22 anos idade.\n"
     ]
    }
   ],
   "source": [
    "#Exercicio1\n",
    "nome = input(\"Qual é seu nome? \")\n",
    "idade = input(\"Qual é sua idade? \")\n",
    "print(f'{nome} tem a idade de {idade} anos idade.')"
   ]
  },
  {
   "cell_type": "code",
   "execution_count": 47,
   "metadata": {},
   "outputs": [
    {
     "name": "stdout",
     "output_type": "stream",
     "text": [
      "range(20, 51)\n",
      "40\n",
      "2911\n"
     ]
    }
   ],
   "source": [
    "import statistics\n",
    "#Exercicio2\n",
    "\n",
    "#Criar sequencia de numeros 20.. 50\n",
    "const = range(20, 51)\n",
    "print(const)\n",
    "\n",
    "#Criar sequencia de numeros 20.. 60 e mostrar valor médio\n",
    "x = range(20, 61)\n",
    "print(statistics.mean(x))\n",
    "\n",
    "#Criar sequencoa de numeros 51.. 91 e mostrar soma dos elementos\n",
    "soma = range(51, 92)\n",
    "print(sum(soma))\n"
   ]
  },
  {
   "cell_type": "code",
   "execution_count": null,
   "metadata": {},
   "outputs": [],
   "source": [
    "#Exercicio3\n",
    "#Write a R program to create a vector which contains 10 random integer values between -50 and +50.\n",
    "\n",
    "\n"
   ]
  },
  {
   "cell_type": "code",
   "execution_count": 49,
   "metadata": {},
   "outputs": [
    {
     "name": "stdout",
     "output_type": "stream",
     "text": [
      "2\n",
      "100\n"
     ]
    }
   ],
   "source": [
    "#Exercicio4\n",
    "#Criar programa que encontra o max value e o min value\n",
    "\n",
    "vector = [100, 2, 3, 4, 5, 6, 7, 8, 9, 10]\n",
    "print(min(vector))\n",
    "print(max(vector))"
   ]
  },
  {
   "cell_type": "code",
   "execution_count": 83,
   "metadata": {
    "scrolled": true
   },
   "outputs": [
    {
     "name": "stdout",
     "output_type": "stream",
     "text": [
      "[[1 2 3]\n",
      " [4 5 6]\n",
      " [7 8 9]]\n"
     ]
    }
   ],
   "source": [
    "import numpy as np\n",
    "#Exercicio5\n",
    "#Criar programa que cria 3 vectores com 3 inteiros, depois combinar os 3 para ficar cum uma matriz 3x3 em que cada coluna \n",
    "# representa um vector. E mostrar a matriz\n",
    "\n",
    "a = np.array([1, 2, 3])\n",
    "b = np.array([4, 5, 6])\n",
    "c = np.array([7, 8, 9])\n",
    "\n",
    "d= np.array([a,b,c])\n",
    "print(d)\n"
   ]
  },
  {
   "cell_type": "code",
   "execution_count": 101,
   "metadata": {
    "scrolled": true
   },
   "outputs": [
    {
     "name": "stdout",
     "output_type": "stream",
     "text": [
      "Matriz 5x4: \n",
      "[[ 0  1  2  3]\n",
      " [ 4  5  6  7]\n",
      " [ 8  9 10 11]\n",
      " [12 13 14 15]\n",
      " [16 17 18 19]]\n",
      "Matriz 3x3, automaticamente filled by rows: \n",
      "[[1 2 3]\n",
      " [4 5 6]\n",
      " [7 8 9]]\n",
      "Matriz 2x2: \n",
      "[[1 2]\n",
      " [4 5]]\n",
      "Filled by colums: \n"
     ]
    },
    {
     "data": {
      "text/plain": [
       "[[1, 4], [2, 5]]"
      ]
     },
     "execution_count": 101,
     "metadata": {},
     "output_type": "execute_result"
    }
   ],
   "source": [
    "#Exercicio6\n",
    "#Criar programa que cria um matris 5x4, 3x3 matriz com labels and fill it with rows and 2x2 matriz com labels and fill it by colums\n",
    "\n",
    "#criar programa que cria matrix 5x4\n",
    "print('Matriz 5x4: ')\n",
    "matrix0= np.arange(0, 20).reshape((5, 4))\n",
    "print(matrix0)\n",
    "\n",
    "#3x3 matrix with label filled with rows\n",
    "print('Matriz 3x3, automaticamente filled by rows: ')\n",
    "mymatrix = np.array([[1, 2, 3], [4, 5, 6], [7, 8, 9]])\n",
    "print(mymatrix)\n",
    "\n",
    "\n",
    "\n",
    "#2x2 matrix with label filled with colums\n",
    "print('Matriz 2x2: ')\n",
    "my2ndmatrix = np.array([[1, 2], [4, 5]])\n",
    "print(my2ndmatrix)\n",
    "print('Filled by colums: ')\n",
    "[[colums[i] for colums in my2ndmatrix] for i in range(2)]"
   ]
  },
  {
   "cell_type": "code",
   "execution_count": 116,
   "metadata": {},
   "outputs": [
    {
     "name": "stdout",
     "output_type": "stream",
     "text": [
      "[[ 3  4  5]\n",
      " [ 6  7  8]\n",
      " [ 9 10 11]\n",
      " [12 13 14]]\n",
      "      colum1  colum2  colum3\n",
      "row1       3       4       5\n",
      "row2       6       7       8\n",
      "row3       9      10      11\n",
      "row4      12      13      14\n"
     ]
    }
   ],
   "source": [
    "import pandas as pd\n",
    "#Exercicio7\n",
    "#Write a program to create an array, passing in a vector of values and a vector of dimensions. Also provide names for each dimension.\n",
    "\n",
    "mymatrix3 = np.arange(3, 15).reshape(4, 3)\n",
    "print(mymatrix3)\n",
    "rows=['row1','row2','row3', 'row4']\n",
    "formatted=pd.DataFrame(mymatrix3, index = rows, columns=('colum1','colum2','colum3'))\n",
    "print(formatted)\n"
   ]
  },
  {
   "cell_type": "code",
   "execution_count": null,
   "metadata": {},
   "outputs": [],
   "source": [
    "#Exercio8\n",
    "#Write a program to create a list of elements using vectors, matrices and a functions. Print the\n",
    "#content of the list.\n",
    "\n"
   ]
  },
  {
   "cell_type": "code",
   "execution_count": 130,
   "metadata": {},
   "outputs": [
    {
     "data": {
      "image/png": "[encoded data removed]",
      "text/plain": [
       "<Figure size 432x288 with 1 Axes>"
      ]
     },
     "metadata": {
      "needs_background": "light"
     },
     "output_type": "display_data"
    }
   ],
   "source": [
    "#Exercicio9\n",
    "#Write a program to create a simple bar plot of five subjects marks.\n",
    "\n",
    "\n",
    "import seaborn as sbn\n",
    "subjects= [20, 30, 10, 50, 60]\n",
    "data = [2020, 2025, 2030, 2035, 2040]\n",
    "ax = sbn.barplot(x=data, y=subjects)\n"
   ]
  },
  {
   "cell_type": "code",
   "execution_count": 132,
   "metadata": {},
   "outputs": [
    {
     "name": "stdout",
     "output_type": "stream",
     "text": [
      "     name  salario\n",
      "0   marco   100000\n",
      "1  santos    50000\n",
      "2   silva    20000\n"
     ]
    }
   ],
   "source": [
    "#Exercicio10\n",
    "#Write a program to create a Dataframes which contain details of 5 employees and display the\n",
    "#details.\n",
    "lista = {'NAME': ['marco', 'santos', 'silva'],\n",
    "         'SALARIO': [100000, 50000, 20000]}\n",
    "\n",
    "beauty=pd.DataFrame(lista)\n",
    "print(beauty)\n",
    "\n",
    "\n"
   ]
  },
  {
   "cell_type": "code",
   "execution_count": 2,
   "metadata": {},
   "outputs": [
    {
     "name": "stdout",
     "output_type": "stream",
     "text": [
      "45\n",
      "5.0\n",
      "362880\n"
     ]
    }
   ],
   "source": [
    "import numpy as np\n",
    "#Exercicio11\n",
    "#Write a program to compute sum, mean and product of a given vector elements\n",
    "\n",
    "vector=np.array([1, 2, 3, 4, 5, 6, 7, 8, 9])\n",
    "soma=sum(vector)\n",
    "print(soma)\n",
    "media=vector.mean() #or media = sum(vector)/len(vector)\n",
    "print(media)\n",
    "produto = np.product(vector)\n",
    "print(produto)\n"
   ]
  },
  {
   "cell_type": "code",
   "execution_count": null,
   "metadata": {},
   "outputs": [],
   "source": []
  }
 ],
 "metadata": {
  "kernelspec": {
   "display_name": "Python 3",
   "language": "python",
   "name": "python3"
  },
  "language_info": {
   "codemirror_mode": {
    "name": "ipython",
    "version": 3
   },
   "file_extension": ".py",
   "mimetype": "text/x-python",
   "name": "python",
   "nbconvert_exporter": "python",
   "pygments_lexer": "ipython3",
   "version": "3.8.5"
  }
 },
 "nbformat": 4,
 "nbformat_minor": 4
}
